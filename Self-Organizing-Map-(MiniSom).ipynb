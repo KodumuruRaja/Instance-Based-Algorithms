{
  "nbformat": 4,
  "nbformat_minor": 0,
  "metadata": {
    "colab": {
      "name": "MiniSom.ipynb",
      "provenance": [],
      "collapsed_sections": [],
      "authorship_tag": "ABX9TyNuRwRZgmlYL9RcNhRVk32F",
      "include_colab_link": true
    },
    "kernelspec": {
      "name": "python3",
      "display_name": "Python 3"
    }
  },
  "cells": [
    {
      "cell_type": "markdown",
      "metadata": {
        "id": "view-in-github",
        "colab_type": "text"
      },
      "source": [
        "<a href=\"https://colab.research.google.com/github/KodumuruRaja/Instance-Based-Algorithms/blob/main/Self-Organizing-Map-(MiniSom).ipynb\" target=\"_parent\"><img src=\"https://colab.research.google.com/assets/colab-badge.svg\" alt=\"Open In Colab\"/></a>"
      ]
    },
    {
      "cell_type": "code",
      "metadata": {
        "colab": {
          "base_uri": "https://localhost:8080/"
        },
        "id": "TYETP00QgOj1",
        "outputId": "472ef223-8991-465b-fd98-ce919b82c982"
      },
      "source": [
        "pip install minisom"
      ],
      "execution_count": null,
      "outputs": [
        {
          "output_type": "stream",
          "text": [
            "Requirement already satisfied: minisom in /usr/local/lib/python3.7/dist-packages (2.2.7)\n"
          ],
          "name": "stdout"
        }
      ]
    },
    {
      "cell_type": "code",
      "metadata": {
        "id": "iE53fMIMf7d7"
      },
      "source": [
        "from minisom import MiniSom\r\n",
        "from sklearn.datasets import load_breast_cancer\r\n",
        "import time"
      ],
      "execution_count": null,
      "outputs": []
    },
    {
      "cell_type": "code",
      "metadata": {
        "id": "aawVBmM2gIRT"
      },
      "source": [
        "# Hyperparameter Setting\r\n",
        "som_grid_rows=30\r\n",
        "som_grid_columns=20\r\n",
        "iterations=500\r\n",
        "sigma=1\r\n",
        "learning_rate=0.5"
      ],
      "execution_count": null,
      "outputs": []
    },
    {
      "cell_type": "code",
      "metadata": {
        "id": "-GSUZersgidv"
      },
      "source": [
        "data,target=load_breast_cancer(True)"
      ],
      "execution_count": null,
      "outputs": []
    },
    {
      "cell_type": "code",
      "metadata": {
        "id": "dB71qSxhgnan"
      },
      "source": [
        "#Initialization\r\n",
        "som=MiniSom(x=som_grid_rows,\r\n",
        "            y=som_grid_columns,\r\n",
        "            input_len=data.shape[1],\r\n",
        "            sigma=sigma,\r\n",
        "            learning_rate=learning_rate)\r\n",
        "som.random_weights_init(data)"
      ],
      "execution_count": null,
      "outputs": []
    },
    {
      "cell_type": "code",
      "metadata": {
        "colab": {
          "base_uri": "https://localhost:8080/"
        },
        "id": "tDdk4CYJg6Nk",
        "outputId": "7fd3b961-c897-472a-e882-3604b48b8d20"
      },
      "source": [
        "# training\r\n",
        "start_time=time.time()\r\n",
        "som.train_random(data,iterations) #training with 100 iterations\r\n",
        "elapsed_time=time.time()-start_time\r\n",
        "print(elapsed_time,\"seconds\")"
      ],
      "execution_count": null,
      "outputs": [
        {
          "output_type": "stream",
          "text": [
            "0.09816098213195801 seconds\n"
          ],
          "name": "stdout"
        }
      ]
    },
    {
      "cell_type": "code",
      "metadata": {
        "colab": {
          "base_uri": "https://localhost:8080/",
          "height": 269
        },
        "id": "IOklcAoThdwS",
        "outputId": "331137c2-bbd5-4ca2-d145-98735c62e946"
      },
      "source": [
        "from pylab import plot,axis,show,pcolor,colorbar,bone\r\n",
        "bone()\r\n",
        "pcolor(som.distance_map().T) #distance map as background\r\n",
        "colorbar()\r\n",
        "# use different colors and markers for each label\r\n",
        "markers=['o','s','D']\r\n",
        "colors=['r','g','b']\r\n",
        "for cnt,xx in enumerate(data):\r\n",
        "  w=som.winner(xx) #getting the winner\r\n",
        "  # place a marker on the winning position for the sample xx\r\n",
        "  plot(w[0]+.5,markers[target[cnt]],markerfacecolor='None',markeredgecolor=colors[target[cnt]],markersize=12,markeredgewidth=2)\r\n",
        "axis([0,som._weights.shape[0],0,som._weights.shape[1]])\r\n",
        "show()"
      ],
      "execution_count": null,
      "outputs": [
        {
          "output_type": "display_data",
          "data": {
            "image/png": "[encoded data removed]",
            "text/plain": [
              "<Figure size 432x288 with 2 Axes>"
            ]
          },
          "metadata": {
            "tags": [],
            "needs_background": "light"
          }
        }
      ]
    },
    {
      "cell_type": "code",
      "metadata": {
        "id": "TKvGZmtlmRTu"
      },
      "source": [
        ""
      ],
      "execution_count": null,
      "outputs": []
    }
  ]
}