{
  "nbformat": 4,
  "nbformat_minor": 0,
  "metadata": {
    "colab": {
      "name": "SVM1.ipynb",
      "provenance": [],
      "collapsed_sections": [],
      "authorship_tag": "ABX9TyNxlKLHgeJKt05995q3b84f",
      "include_colab_link": true
    },
    "kernelspec": {
      "name": "python3",
      "display_name": "Python 3"
    }
  },
  "cells": [
    {
      "cell_type": "markdown",
      "metadata": {
        "id": "view-in-github",
        "colab_type": "text"
      },
      "source": [
        "<a href=\"https://colab.research.google.com/github/KodumuruRaja/Instance-Based-Algorithms/blob/main/Support-Vector-Machine2-(SVM).ipynb\" target=\"_parent\"><img src=\"https://colab.research.google.com/assets/colab-badge.svg\" alt=\"Open In Colab\"/></a>"
      ]
    },
    {
      "cell_type": "code",
      "metadata": {
        "colab": {
          "base_uri": "https://localhost:8080/"
        },
        "id": "MiGgfBocFjAJ",
        "outputId": "3da38060-f016-4c18-b7ce-e20c31bec19f"
      },
      "source": [
        "import numpy as np\r\n",
        "import pandas as pd\r\n",
        "import matplotlib.pyplot as plt\r\n",
        "%matplotlib inline\r\n",
        "from sklearn import svm\r\n",
        "from sklearn.datasets.samples_generator import make_blobs"
      ],
      "execution_count": null,
      "outputs": [
        {
          "output_type": "stream",
          "text": [
            "/usr/local/lib/python3.7/dist-packages/sklearn/utils/deprecation.py:144: FutureWarning: The sklearn.datasets.samples_generator module is  deprecated in version 0.22 and will be removed in version 0.24. The corresponding classes / functions should instead be imported from sklearn.datasets. Anything that cannot be imported from sklearn.datasets is now part of the private API.\n",
            "  warnings.warn(message, FutureWarning)\n"
          ],
          "name": "stderr"
        }
      ]
    },
    {
      "cell_type": "code",
      "metadata": {
        "id": "v1LL5G7vF5an"
      },
      "source": [
        "x,y=make_blobs(n_samples=40,centers=2,random_state=20)"
      ],
      "execution_count": null,
      "outputs": []
    },
    {
      "cell_type": "code",
      "metadata": {
        "colab": {
          "base_uri": "https://localhost:8080/"
        },
        "id": "oGhalOxEGGWO",
        "outputId": "7595f5f7-ae41-4c7e-8ac1-3c1ca9ceb322"
      },
      "source": [
        "model=svm.SVC(kernel='linear',C=1)\r\n",
        "model.fit(x,y)"
      ],
      "execution_count": null,
      "outputs": [
        {
          "output_type": "execute_result",
          "data": {
            "text/plain": [
              "SVC(C=1, break_ties=False, cache_size=200, class_weight=None, coef0=0.0,\n",
              "    decision_function_shape='ovr', degree=3, gamma='scale', kernel='linear',\n",
              "    max_iter=-1, probability=False, random_state=None, shrinking=True,\n",
              "    tol=0.001, verbose=False)"
            ]
          },
          "metadata": {
            "tags": []
          },
          "execution_count": 3
        }
      ]
    },
    {
      "cell_type": "code",
      "metadata": {
        "colab": {
          "base_uri": "https://localhost:8080/",
          "height": 265
        },
        "id": "Iqcm5ks3GOny",
        "outputId": "e785c810-8b72-404d-ec7a-93eeda2f5456"
      },
      "source": [
        "plt.scatter(x[:,0],x[:,1],c=y,s=30,cmap=plt.cm.Paired)\r\n",
        "plt.show()"
      ],
      "execution_count": null,
      "outputs": [
        {
          "output_type": "display_data",
          "data": {
            "image/png": "[encoded data removed]",
            "text/plain": [
              "<Figure size 432x288 with 1 Axes>"
            ]
          },
          "metadata": {
            "tags": [],
            "needs_background": "light"
          }
        }
      ]
    },
    {
      "cell_type": "code",
      "metadata": {
        "colab": {
          "base_uri": "https://localhost:8080/"
        },
        "id": "EMRp3WSAGb3R",
        "outputId": "ca61aeec-04fb-4ac6-9a81-93424aea9fb9"
      },
      "source": [
        "# To Predict unknown data\r\n",
        "newData=[[3,4],[5,6]]\r\n",
        "print(model.predict(newData))"
      ],
      "execution_count": null,
      "outputs": [
        {
          "output_type": "stream",
          "text": [
            "[0 1]\n"
          ],
          "name": "stdout"
        }
      ]
    },
    {
      "cell_type": "code",
      "metadata": {
        "colab": {
          "base_uri": "https://localhost:8080/",
          "height": 265
        },
        "id": "gysAGft4I5A_",
        "outputId": "e54c7619-0d5f-4abf-c894-fb29513857d9"
      },
      "source": [
        "model=svm.SVC(kernel='linear',C=1000)\r\n",
        "model.fit(x,y)\r\n",
        "plt.scatter(x[:,0],x[:,1],c=y,s=30,cmap=plt.cm.Paired)\r\n",
        "# plot the decision function\r\n",
        "ax=plt.gca()\r\n",
        "xlim=ax.get_xlim()\r\n",
        "ylim=ax.get_ylim()\r\n",
        "# create grid to evaluate model\r\n",
        "xx=np.linspace(xlim[0],xlim[1],30)\r\n",
        "yy=np.linspace(xlim[0],xlim[1],30)\r\n",
        "yy,xx=np.meshgrid(yy,xx)\r\n",
        "xy=np.vstack([xx.ravel(),yy.ravel()]).T\r\n",
        "z=model.decision_function(xy).reshape(xx.shape)\r\n",
        "# plot decision boundary and margins\r\n",
        "ax.contour(xx,yy,z,colors='k',levels=[-1,0,1],\r\n",
        "           alpha=0.5,\r\n",
        "           linestyles=['--','-','--'])\r\n",
        "#plot support vectors\r\n",
        "ax.scatter(model.support_vectors_[:,0],\r\n",
        "           model.support_vectors_[:,1],s=100,\r\n",
        "           linewidth=1,facecolors='none')\r\n",
        "plt.show()"
      ],
      "execution_count": null,
      "outputs": [
        {
          "output_type": "display_data",
          "data": {
            "image/png": "[encoded data removed]",
            "text/plain": [
              "<Figure size 432x288 with 1 Axes>"
            ]
          },
          "metadata": {
            "tags": [],
            "needs_background": "light"
          }
        }
      ]
    },
    {
      "cell_type": "code",
      "metadata": {
        "id": "18KwN4adMhSH"
      },
      "source": [
        ""
      ],
      "execution_count": null,
      "outputs": []
    }
  ]
}