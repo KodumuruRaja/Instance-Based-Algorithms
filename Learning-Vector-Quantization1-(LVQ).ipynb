{
  "nbformat": 4,
  "nbformat_minor": 0,
  "metadata": {
    "colab": {
      "name": "LVQ.ipynb",
      "provenance": [],
      "collapsed_sections": [],
      "authorship_tag": "ABX9TyPYU4HUfNVe3XmjJiKtMJay",
      "include_colab_link": true
    },
    "kernelspec": {
      "name": "python3",
      "display_name": "Python 3"
    }
  },
  "cells": [
    {
      "cell_type": "markdown",
      "metadata": {
        "id": "view-in-github",
        "colab_type": "text"
      },
      "source": [
        "<a href=\"https://colab.research.google.com/github/KodumuruRaja/Instance-Based-Algorithms/blob/main/Learning-Vector-Quantization1-(LVQ).ipynb\" target=\"_parent\"><img src=\"https://colab.research.google.com/assets/colab-badge.svg\" alt=\"Open In Colab\"/></a>"
      ]
    },
    {
      "cell_type": "code",
      "metadata": {
        "id": "3Lrb6Mcd9U41"
      },
      "source": [
        "import numpy as np"
      ],
      "execution_count": null,
      "outputs": []
    },
    {
      "cell_type": "code",
      "metadata": {
        "id": "KXMIe0Kd9YhA"
      },
      "source": [
        "def lvq_fit(train,target,learn_rate,b,max_epoch):\r\n",
        "  label,train_idx=np.unique(target,return_index=True)\r\n",
        "  weight=train[train_idx].astype(np.float64)\r\n",
        "  trin=np.array([e for i, e in enumerate(zip(train,target)) if i not in train_idx])\r\n",
        "  train,target=train[:,0],train[:,1]\r\n",
        "  epoch=0\r\n",
        "  while epoch < max_epoch:\r\n",
        "    for i,x in enumerate(train):\r\n",
        "      distance=[sum((w-x)**2)for w in weight]\r\n",
        "      min=np.argmin(distance)\r\n",
        "      sign=1 if target[1]==label[min] else -1\r\n",
        "      weight[min]+=sign*learn_rate*(x-weight[min])\r\n",
        "    learn_rate*=b\r\n",
        "    epoch+=1\r\n",
        "  return weight,label"
      ],
      "execution_count": null,
      "outputs": []
    },
    {
      "cell_type": "code",
      "metadata": {
        "id": "gevjB2f1-q6X"
      },
      "source": [
        "def lvq_predict(x,weight):\r\n",
        "  weight,label=weight\r\n",
        "  d=[sum((w-x)**2)for w in weight]\r\n",
        "  return label[np.argmin(d)]"
      ],
      "execution_count": null,
      "outputs": []
    },
    {
      "cell_type": "code",
      "metadata": {
        "colab": {
          "base_uri": "https://localhost:8080/"
        },
        "id": "4sqY0Bkk--kv",
        "outputId": "f51af382-b2e5-495e-c7c5-04eaf3e134b4"
      },
      "source": [
        "train=np.array([[26.7,86,1011.7,8,0],\r\n",
        "                [26.8,86,1011.5,5,0],\r\n",
        "                [26.5,88,1011.6,6,4.2],\r\n",
        "                [26.5,85,1011.1,6,15],\r\n",
        "                [25,91,1010.4,6,0.2],\r\n",
        "                [26.2,84,1010.7,8,0]])\r\n",
        "target=np.array([\"Raja\",\"Harsha\",\"Harsha\",\"Harsha\",\"Harsha-Khammam\",\"Shiva\"])\r\n",
        "weight=lvq_fit(train,target,learn_rate=.1,b=.5,max_epoch=42)\r\n",
        "output1=lvq_predict([24.8,95,1010.4,5,25.5],weight)\r\n",
        "output2=lvq_predict([25.3,91,1010.7,6,3.9],weight)\r\n",
        "output3=lvq_predict([26.2,73,1014.1,7,0],weight)\r\n",
        "print(output1)\r\n",
        "print(output2)\r\n",
        "print(output3)"
      ],
      "execution_count": null,
      "outputs": [
        {
          "output_type": "stream",
          "text": [
            "Harsha-Khammam\n",
            "Harsha-Khammam\n",
            "Shiva\n"
          ],
          "name": "stdout"
        },
        {
          "output_type": "stream",
          "text": [
            "/usr/local/lib/python3.7/dist-packages/ipykernel_launcher.py:4: VisibleDeprecationWarning: Creating an ndarray from ragged nested sequences (which is a list-or-tuple of lists-or-tuples-or ndarrays with different lengths or shapes) is deprecated. If you meant to do this, you must specify 'dtype=object' when creating the ndarray\n",
            "  after removing the cwd from sys.path.\n"
          ],
          "name": "stderr"
        }
      ]
    },
    {
      "cell_type": "code",
      "metadata": {
        "id": "ZjCQN1gyBNmC"
      },
      "source": [
        ""
      ],
      "execution_count": null,
      "outputs": []
    }
  ]
}