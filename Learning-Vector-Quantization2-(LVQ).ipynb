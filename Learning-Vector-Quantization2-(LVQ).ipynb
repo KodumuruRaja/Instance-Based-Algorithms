{
  "nbformat": 4,
  "nbformat_minor": 0,
  "metadata": {
    "colab": {
      "name": "LVQ1.ipynb",
      "provenance": [],
      "collapsed_sections": [],
      "authorship_tag": "ABX9TyPq1hqIUFNaeEFHVEMoChrv",
      "include_colab_link": true
    },
    "kernelspec": {
      "name": "python3",
      "display_name": "Python 3"
    }
  },
  "cells": [
    {
      "cell_type": "markdown",
      "metadata": {
        "id": "view-in-github",
        "colab_type": "text"
      },
      "source": [
        "<a href=\"https://colab.research.google.com/github/KodumuruRaja/Instance-Based-Algorithms/blob/main/Learning-Vector-Quantization2-(LVQ).ipynb\" target=\"_parent\"><img src=\"https://colab.research.google.com/assets/colab-badge.svg\" alt=\"Open In Colab\"/></a>"
      ]
    },
    {
      "cell_type": "code",
      "metadata": {
        "id": "MX20TQHXEhYY"
      },
      "source": [
        "import numpy as np"
      ],
      "execution_count": null,
      "outputs": []
    },
    {
      "cell_type": "code",
      "metadata": {
        "id": "ASQ2yKcEElH0"
      },
      "source": [
        "def lvq_fit(train,target,learn_rate,b,max_epoch):\r\n",
        "  label,train_idx=np.unique(target,return_index=True)\r\n",
        "  weight=train[train_idx].astype(np.float64)\r\n",
        "  train=np.array([e for i,e in enumerate(zip(train,target)) if i not in train_idx])\r\n",
        "  train,target=train[:,0],train[:,1]\r\n",
        "  epoch=0\r\n",
        "  while epoch<max_epoch:\r\n",
        "    for i,x in enumerate(train):\r\n",
        "      distance=[sum((w-x)**2)for w in weight]\r\n",
        "      min=np.argmin(distance)\r\n",
        "      sign=1 if target[i]==label[min] else -1\r\n",
        "      weight[min]+=sign*learn_rate*(x-weight[min])\r\n",
        "    learn_rate*=b\r\n",
        "    epoch+=1\r\n",
        "  return weight,label"
      ],
      "execution_count": null,
      "outputs": []
    },
    {
      "cell_type": "code",
      "metadata": {
        "id": "y-5q0D6_F1mu"
      },
      "source": [
        "def lvq_predict(x,weight):\r\n",
        "  weight,label=weight\r\n",
        "  d=[sum((w-x)**2)for w in weight]\r\n",
        "  return label[np.argmin(d)]"
      ],
      "execution_count": null,
      "outputs": []
    },
    {
      "cell_type": "code",
      "metadata": {
        "colab": {
          "base_uri": "https://localhost:8080/"
        },
        "id": "wnClLjchGHHH",
        "outputId": "7c16f381-d117-4e84-aeb3-e3247ba80d86"
      },
      "source": [
        "train=np.array([[1,1,0,0],\r\n",
        "                [0,0,0,1],\r\n",
        "                [0,0,1,1],\r\n",
        "                [1,0,0,0],\r\n",
        "                [0,1,1,0]])\r\n",
        "target=np.array([1,2,2,1,2])\r\n",
        "weight=lvq_fit(train,target,learn_rate=.1,b=.5,max_epoch=10)\r\n",
        "output=lvq_predict([1,0,1,0],weight)\r\n",
        "print(output)"
      ],
      "execution_count": null,
      "outputs": [
        {
          "output_type": "stream",
          "text": [
            "1\n"
          ],
          "name": "stdout"
        },
        {
          "output_type": "stream",
          "text": [
            "/usr/local/lib/python3.7/dist-packages/ipykernel_launcher.py:4: VisibleDeprecationWarning: Creating an ndarray from ragged nested sequences (which is a list-or-tuple of lists-or-tuples-or ndarrays with different lengths or shapes) is deprecated. If you meant to do this, you must specify 'dtype=object' when creating the ndarray\n",
            "  after removing the cwd from sys.path.\n"
          ],
          "name": "stderr"
        }
      ]
    },
    {
      "cell_type": "code",
      "metadata": {
        "colab": {
          "base_uri": "https://localhost:8080/",
          "height": 336
        },
        "id": "ZzVhd5dBGwNJ",
        "outputId": "de78a3d5-dbad-4c94-b34d-1dcebe47b2b6"
      },
      "source": [
        "from sklearn.datasets import make_blobs\r\n",
        "import matplotlib.pyplot as plt\r\n",
        "from random import uniform\r\n",
        "train,target=make_blobs(n_samples=30,n_features=2,centers=3)\r\n",
        "weight=lvq_fit(train,target,learn_rate=.1,b=.5,max_epoch=10)\r\n",
        "test=uniform(train[:,0].min(),train[:,0].max()),uniform(train[:,1].min(),train[:,1].max())\r\n",
        "output=lvq_predict(test,weight)\r\n",
        "colors='rgbcmyk'\r\n",
        "for x,label in zip(train,target):\r\n",
        "  plt.plot(x[0],x[1],colors[label]+'.')\r\n",
        "plt.plot(test[0],test[1],colors[output]+'o')"
      ],
      "execution_count": null,
      "outputs": [
        {
          "output_type": "stream",
          "text": [
            "/usr/local/lib/python3.7/dist-packages/ipykernel_launcher.py:4: VisibleDeprecationWarning: Creating an ndarray from ragged nested sequences (which is a list-or-tuple of lists-or-tuples-or ndarrays with different lengths or shapes) is deprecated. If you meant to do this, you must specify 'dtype=object' when creating the ndarray\n",
            "  after removing the cwd from sys.path.\n"
          ],
          "name": "stderr"
        },
        {
          "output_type": "execute_result",
          "data": {
            "text/plain": [
              "[<matplotlib.lines.Line2D at 0x7fb3da637510>]"
            ]
          },
          "metadata": {
            "tags": []
          },
          "execution_count": 5
        },
        {
          "output_type": "display_data",
          "data": {
            "image/png": "[encoded data removed]",
            "text/plain": [
              "<Figure size 432x288 with 1 Axes>"
            ]
          },
          "metadata": {
            "tags": [],
            "needs_background": "light"
          }
        }
      ]
    },
    {
      "cell_type": "code",
      "metadata": {
        "id": "lQS2b957Ire4"
      },
      "source": [
        ""
      ],
      "execution_count": null,
      "outputs": []
    }
  ]
}